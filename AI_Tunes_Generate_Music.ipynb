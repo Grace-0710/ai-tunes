{
  "nbformat": 4,
  "nbformat_minor": 0,
  "metadata": {
    "colab": {
      "name": "AI-Tunes Generate Music",
      "provenance": [],
      "collapsed_sections": [],
      "toc_visible": true,
      "authorship_tag": "ABX9TyPFRYZZuxGRxXJdELwESe+u",
      "include_colab_link": true
    },
    "kernelspec": {
      "name": "python3",
      "display_name": "Python 3"
    },
    "language_info": {
      "name": "python"
    }
  },
  "cells": [
    {
      "cell_type": "markdown",
      "metadata": {
        "id": "view-in-github",
        "colab_type": "text"
      },
      "source": [
        "<a href=\"https://colab.research.google.com/github/robgon-art/ai-tunes/blob/main/AI_Tunes_Generate_Music.ipynb\" target=\"_parent\"><img src=\"https://colab.research.google.com/assets/colab-badge.svg\" alt=\"Open In Colab\"/></a>"
      ]
    },
    {
      "cell_type": "markdown",
      "metadata": {
        "id": "PGD-rwhuWOOx"
      },
      "source": [
        "# **AI-Tunes: Creating New Songs with Artificial Intelligence**\n",
        "### **How I fine-tuned OpenAI's GPT-3 to generate music with a global structure**\n",
        "By Robert. A Gonsalves\n",
        "\n",
        "You can read my article about this project on Medium.\n",
        "\n",
        "The source code is released under the CC BY-SA license.\n",
        "\n",
        "![CC BY-NC-SA](https://licensebuttons.net/l/by-sa/4.0/88x31.png)\n"
      ]
    },
    {
      "cell_type": "code",
      "metadata": {
        "id": "5Qe6fbeWTc3J",
        "cellView": "form"
      },
      "source": [
        "#@title **Initalize the System**\n",
        "#@markdown Hover over play button and hit the Run cell.</br>\n",
        "#@markdown HIt takes about 3 minutes to complete the setup.\n",
        "!git clone https://github.com/robgon-art/music-geometry-eval\n",
        "!pip install openai\n",
        "\n",
        "import sys\n",
        "sys.path.append('/content/music-geometry-eval/music_geometry_eval')\n",
        "\n",
        "import music_geometry_eval\n",
        "import openai\n",
        "import music21\n",
        "import numpy as np\n",
        "from collections.abc import Iterable\n",
        "\n",
        "!gsutil -q -m cp -r gs://magentadata/models/music_transformer/primers/* /content/\n",
        "!gsutil -q -m cp gs://magentadata/soundfonts/Yamaha-C5-Salamander-JNv5.1.sf2 /content/\n",
        "!apt-get update -qq && apt-get install -qq libfluidsynth1 build-essential libasound2-dev libjack-dev\n",
        "!pip install magenta\n",
        "!pip install pyfluidsynth\n",
        "import note_seq\n",
        "SF2_PATH = '/content/Yamaha-C5-Salamander-JNv5.1.sf2'\n",
        "SAMPLE_RATE = 16000\n",
        "CMM_mean = 2.2715\n",
        "CMM_std = 0.4831\n",
        "LM_mean = 2.0305\n",
        "LM_std = 0.5386\n",
        "CENT_mean = 0.3042\n",
        "CENT_std = 0.0891"
      ],
      "execution_count": null,
      "outputs": []
    },
    {
      "cell_type": "markdown",
      "metadata": {
        "id": "DXqi6YhFXpCn"
      },
      "source": [
        "**Specify Your OpenAI API Key**</br>\n",
        "This Colab only works if you have an account with OpenAI.</br>\n",
        "If you don't have an account you can sign up here https://openai.com/blog/openai-api/"
      ]
    },
    {
      "cell_type": "code",
      "metadata": {
        "id": "0StHpYWdXnfQ"
      },
      "source": [
        "openai.api_key = \"<Your OpenAI API Key>\""
      ],
      "execution_count": null,
      "outputs": []
    },
    {
      "cell_type": "code",
      "metadata": {
        "cellView": "form",
        "id": "VdU5Q6CCFK6E"
      },
      "source": [
        "#@title **Generate a new Song Title and Band Name**\n",
        "#@markdown This data will be used to prompt the AI-Tunes system to create the song.\n",
        "response = openai.Completion.create(\n",
        "  engine=\"davinci-instruct-beta\",\n",
        "  prompt=\"Create a new song title a new band name. Be creative!\\n\\nBand name: The Execs\\nSong title: Company Meeting\\n###\\n\\nBand name: The One Chords\\nSong title: Moving Down to Burlington\\n###\",\n",
        "  temperature=0.7,\n",
        "  max_tokens=64,\n",
        "  top_p=1,\n",
        "  frequency_penalty=0.5,\n",
        "  presence_penalty=0.5,\n",
        "  stop=[\"###\"]\n",
        ")\n",
        "\n",
        "# print(response)\n",
        "\n",
        "song_metadata = response[\"choices\"][0][\"text\"].strip()\n",
        "lines = song_metadata.split(\"\\n\")\n",
        "generated_metadata = {}\n",
        "song_title = \"Our Random Song\"\n",
        "band_name = \"Some Random Band\"\n",
        "for line in lines:\n",
        "  parts = line.split(\":\")\n",
        "  if len(parts) == 2:\n",
        "    if \"song title\" in parts[0].lower() and len(parts[1]) > 0:\n",
        "      song_title = parts[1].strip()\n",
        "    if \"band name\" in parts[0].lower() and len(parts[1]) > 0:\n",
        "      band_name = parts[1].strip()\n",
        "\n",
        "print(\"Song Title:\", song_title)\n",
        "print(\"Band Name :\", band_name)"
      ],
      "execution_count": null,
      "outputs": []
    },
    {
      "cell_type": "code",
      "metadata": {
        "id": "hol2mChWjzrr",
        "cellView": "form"
      },
      "source": [
        "#@title **Generate Songs**\n",
        "#@markdown The sysystem will generate five versions of the song and show the statistics for tonal quality.</br>\n",
        "#@markdown Lower temperature values will create more repetive melodies.</br>\n",
        "#@markdown Higher values will create more random melodies (and occasional ABC parsing errors.)\n",
        "temperature = 0.75 #@param {type:\"slider\", min:0.0, max:1.2, step:0.01}\n",
        "\n",
        "prompt = \"X: 1 $ T: \" + song_title + \" $ C: \" + band_name + \" $ <song>\"\n",
        "print(\"prompt\", prompt)\n",
        "print()\n",
        "\n",
        "songs_with_scores = []\n",
        "score_arr = np.empty((0), np.float32)\n",
        "\n",
        "for i in range(5):\n",
        "  print(\"\\nGenerating Song Version\", i)\n",
        "  response = openai.Completion.create(\n",
        "      model=\"curie:ft-user-j0julqovorjakyuyt3kv3zci-2021-08-24-11-42-59\",\n",
        "      prompt=prompt,\n",
        "      stop = \" $ <end>\",\n",
        "      temperature=temperature,\n",
        "      top_p=1.0,\n",
        "      frequency_penalty=0.0,\n",
        "      presence_penalty=0.0,\n",
        "      max_tokens = 1000)\n",
        "\n",
        "  # print(response)\n",
        "  # print()\n",
        "\n",
        "  formatted_prompt = \"X: 1 $ T: \" + song_title + \" $ C: \" + band_name + \" $ L: 1/4 $ M: 4/4 $ K: C $ V: 1 treble\"\n",
        "  formatted_prompt = formatted_prompt.replace(\" $ \", \"\\n\")\n",
        "  formatted_prompt = formatted_prompt.replace(\"<song>\", \"\").strip()\n",
        "\n",
        "  formatted_song = response[\"choices\"][0][\"text\"].strip()\n",
        "  formatted_song = formatted_song.replace('`', '\"')\n",
        "  formatted_song = formatted_song.replace(\" $ \", \"\\n\")\n",
        "  new_song = formatted_prompt + \"\\n\" + formatted_song\n",
        "  # print(new_song)\n",
        "  with open(\"new_song.abc\", \"w\") as new_song_file:\n",
        "    new_song_file.write(new_song)\n",
        "\n",
        "  song = music21.converter.parse(\"new_song.abc\")\n",
        "\n",
        "  part = song.parts[0]\n",
        "  chord_end = song.highestTime\n",
        "  for pi in reversed(range(len(part))):\n",
        "    p = part[pi]\n",
        "    for ni in reversed(range(len(p))):\n",
        "      n = p[ni]\n",
        "      if type(n) == music21.harmony.ChordSymbol:\n",
        "        chord_start = p.offset + n.offset\n",
        "        n.duration.quarterLength = chord_end - chord_start\n",
        "        n.volume = music21.volume.Volume(velocity=48)\n",
        "        chord_end = chord_start\n",
        "      elif type(n) == music21.note.Note:\n",
        "        n.volume = music21.volume.Volume(velocity=64)\n",
        "  file_name = \"song\" + str(i).zfill(2) + \".mid\"\n",
        "  song.write('midi', fp=file_name)\n",
        "\n",
        "  part = song.parts[0]\n",
        "  note_array = []\n",
        "\n",
        "  for p in part:\n",
        "    if isinstance(p, Iterable):\n",
        "      for n in p:\n",
        "        if type(n) == music21.note.Note:\n",
        "          note_array.append([int(n.pitch.ps), int(n.quarterLength*4+0.5)])\n",
        "\n",
        "  CMM = music_geometry_eval.calculate_time_supported_conjunct_melodic_motion(note_array)\n",
        "  LM = music_geometry_eval.calculate_time_supported_limited_macroharmony(note_array, span_size=32)\n",
        "  CENT = music_geometry_eval.calculate_time_supported_centricity(note_array, span_size=32)\n",
        "\n",
        "  print(\"  CMM :\", round(CMM, 4))\n",
        "  print(\"  LM  :\", round(LM, 4))\n",
        "  print(\"  CENT:\", round(CENT, 4))\n",
        "\n",
        "  norm_cmm = (CMM - CMM_mean) / CMM_std\n",
        "  norm_lm = (LM - LM_mean) / LM_std\n",
        "  norm_cent = (CENT - CENT_mean) / CMM_std\n",
        "  norm_score_squared = norm_cmm * norm_cmm + norm_lm * norm_lm + norm_cent * norm_cent\n",
        "  print(\"  NDM:\", round(norm_score_squared, 4))\n",
        "  score_arr = np.append(score_arr, norm_score_squared)\n",
        "  songs_with_scores.append([norm_score_squared, file_name])\n",
        "\n",
        "print(\"\\nResults:\")\n",
        "songs_with_scores.sort()\n",
        "for i, pair in enumerate(songs_with_scores):\n",
        "  print(\"Version: \" + str(i) + \", Score: \" + str(round(pair[0], 4)) + \", File: \", pair[1])"
      ],
      "execution_count": null,
      "outputs": []
    },
    {
      "cell_type": "code",
      "metadata": {
        "id": "paPkHWNIIWE1"
      },
      "source": [
        "#@title **Choose a Song**\n",
        "#@markdown Choose a version of the song to play.\n",
        "\n",
        "version_number = 0 #@param {type:\"slider\", min:0, max:5, step:1}\n",
        "melody_ns = note_seq.midi_file_to_sequence_proto(songs_with_scores[version_number][1])\n",
        "print(\"\\nSong Title: \" + song_title)\n",
        "print(\"Version:   \", version_number)\n",
        "print(\"Band Name: \", band_name)\n",
        "print(\"NDM Score: \", round(songs_with_scores[version_number][0], 4))\n",
        "print(\"MIDI File: \", songs_with_scores[version_number][1], \"\\n\")\n",
        "\n",
        "note_seq.play_sequence( \n",
        "  melody_ns,\n",
        "  synth=note_seq.fluidsynth, sample_rate=SAMPLE_RATE, sf2_path=SF2_PATH)\n",
        "# note_seq.plot_sequence(melody_ns)\n",
        "\n",
        "from bokeh.plotting import show\n",
        "fig = note_seq.plot_sequence(melody_ns, show_figure = False)\n",
        "fig.width = 1500\n",
        "fig.height = 500\n",
        "fig.toolbar.logo = None\n",
        "# fig.toolbar_location = None\n",
        "show(fig)"
      ],
      "execution_count": null,
      "outputs": []
    }
  ]
}